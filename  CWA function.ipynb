{
 "cells": [
  {
   "cell_type": "code",
   "execution_count": 2,
   "id": "6ecadac2",
   "metadata": {},
   "outputs": [],
   "source": [
    "def average_cal(CWA):\n",
    "    if CWA >= 70.0:\n",
    "        print(\"FIRST CLASS\")\n",
    "    elif(CWA>59.0) and (CWA<=69.0):\n",
    "        print(\"SECOND CLASS UPPER\")\n",
    "    elif(CWA>59.0) and (CWA<=69.0):\n",
    "        print(\"SECOND CLASS UPPER\")\n",
    "    else:\n",
    "        print('TRAILED')"
   ]
  },
  {
   "cell_type": "code",
   "execution_count": 4,
   "id": "2419d176",
   "metadata": {},
   "outputs": [
    {
     "name": "stdout",
     "output_type": "stream",
     "text": [
      "SECOND CLASS UPPER\n"
     ]
    }
   ],
   "source": [
    "average_cal(64.4)"
   ]
  }
 ],
 "metadata": {
  "kernelspec": {
   "display_name": "Python 3 (ipykernel)",
   "language": "python",
   "name": "python3"
  },
  "language_info": {
   "codemirror_mode": {
    "name": "ipython",
    "version": 3
   },
   "file_extension": ".py",
   "mimetype": "text/x-python",
   "name": "python",
   "nbconvert_exporter": "python",
   "pygments_lexer": "ipython3",
   "version": "3.9.12"
  }
 },
 "nbformat": 4,
 "nbformat_minor": 5
}
